{
 "cells": [
  {
   "cell_type": "code",
   "execution_count": 2,
   "metadata": {},
   "outputs": [
    {
     "name": "stderr",
     "output_type": "stream",
     "text": [
      "Using TensorFlow backend.\n"
     ]
    }
   ],
   "source": [
    "import numpy as np\n",
    "import pandas as pd\n",
    "import matplotlib.pylab as plt\n",
    "from sklearn.model_selection import train_test_split\n",
    "from keras.preprocessing.text import Tokenizer\n",
    "from keras.models import Sequential\n",
    "from keras.layers import Dense, Dropout, Activation, LSTM\n",
    "from keras.layers.embeddings import Embedding\n",
    "from keras.utils import np_utils\n",
    "from keras.preprocessing import sequence\n",
    "from gensim.models import Word2Vec, KeyedVectors, word2vec\n",
    "import gensim\n",
    "from gensim.utils import simple_preprocess\n",
    "from keras.utils import to_categorical\n",
    "import pickle\n",
    "import h5py\n",
    "from time import time\n",
    "from nltk.tokenize import word_tokenize\n",
    "from nltk.corpus import wordnet as wn\n",
    "import math\n",
    "import morfeusz2\n",
    "np.random.seed(7)"
   ]
  },
  {
   "cell_type": "code",
   "execution_count": null,
   "metadata": {},
   "outputs": [],
   "source": [
    "morf = morfeusz2.Morfeusz(generate=False)\n",
    "\n",
    "def read_stopwords(file_name):\n",
    "    tmp = []\n",
    "    with open(file_name, 'r', encoding='utf-8') as f:\n",
    "        tmp = f.readlines()\n",
    "    tmp = [x.strip('\\n') for x in tmp]\n",
    "    return tmp\n",
    "\n",
    "\n",
    "def remove_words(data):\n",
    "    for i, line in enumerate(data):\n",
    "        if i % 1000 == 0:\n",
    "            print(\"Step: \" + str(i))\n",
    "        tokenized = word_tokenize(line)\n",
    "        filtered_line = [w for w in tokenized if w not in stopwords]\n",
    "        data.loc[i] = ' '.join(filtered_line)\n",
    "    return data\n",
    "\n",
    "\n",
    "def lemmatise(data):\n",
    "    for i, line in enumerate(data):\n",
    "        if i % 1000 == 0:\n",
    "            print(\"Step: \" + str(i))\n",
    "        tokenized = word_tokenize(line)\n",
    "        lemmatized_line = []\n",
    "        for word in tokenized:\n",
    "            analysis = morf.analyse(word)\n",
    "            w = analysis[0][2][1].split(':')[0]\n",
    "            lemmatized_line.append(w)\n",
    "        tmp = ' '.join(lemmatized_line)\n",
    "        data.loc[i] = ' '.join(lemmatized_line)\n",
    "    return data"
   ]
  },
  {
   "cell_type": "markdown",
   "metadata": {},
   "source": [
    "## Functions calculating avarage vectors of words families"
   ]
  },
  {
   "cell_type": "code",
   "execution_count": 3,
   "metadata": {},
   "outputs": [],
   "source": [
    "def get_synonyms(word):\n",
    "    synsets = wn.synsets(word)\n",
    "    synonyms = set([lemma for synset in synsets for lemma in synset.lemma_names()])\n",
    "    return list(synonyms)\n",
    "\n",
    "\n",
    "def get_wordfamiliy_average_embeddings(data, mxlen):\n",
    "    averages = []\n",
    "    for i, line in enumerate(data):\n",
    "        line_averages = []\n",
    "        if i % 1000 == 0:\n",
    "            print(\"Step: \" + str(i))\n",
    "\n",
    "        tokenized = word_tokenize(line)    \n",
    "        for word in tokenized:\n",
    "            vectors = []\n",
    "            synonyms = []\n",
    "            tmp_synonyms = get_synonyms(word)\n",
    "            \n",
    "            if len(tmp_synonyms) != 0:\n",
    "                for synonym in tmp_synonyms:\n",
    "                    if synonym in word2vec_model:\n",
    "                        vectors.append(word2vec_model[synonym])\n",
    "            else:\n",
    "                if word in word2vec_model:\n",
    "                    vectors.append(word2vec_model[word])\n",
    "                continue\n",
    "            if len(vectors) != 0:\n",
    "                line_averages.append(np.average(vectors, axis=0))\n",
    "        \n",
    "        # padding\n",
    "        if mxlen - len(line_averages) > 0:\n",
    "            if np.array(line_averages).shape == (0,):\n",
    "                tmp = np.zeros(((mxlen - len(line_averages)), 100), dtype=np.float32)\n",
    "            else:\n",
    "                tmp = np.concatenate(\n",
    "                    (np.array(line_averages), np.zeros(((mxlen - len(line_averages)), 100), dtype=np.float32))\n",
    "                    , axis=0)  \n",
    "        elif mxlen - len(line_averages) < 0:\n",
    "            tmp = line_averages[:mxlen]\n",
    "        \n",
    "        averages.append(np.array(tmp))\n",
    "    return np.array(averages)"
   ]
  },
  {
   "cell_type": "markdown",
   "metadata": {},
   "source": [
    "## Load word2vec model"
   ]
  },
  {
   "cell_type": "code",
   "execution_count": 4,
   "metadata": {},
   "outputs": [],
   "source": [
    "word2vec_model = gensim.models.KeyedVectors.load_word2vec_format('nkjp.txt', binary=False)"
   ]
  },
  {
   "cell_type": "markdown",
   "metadata": {},
   "source": [
    "## Read data"
   ]
  },
  {
   "cell_type": "code",
   "execution_count": 5,
   "metadata": {},
   "outputs": [
    {
     "name": "stdout",
     "output_type": "stream",
     "text": [
      "X_train shape: (130701,)\n",
      "X_test shape: (40845,)\n",
      "X_val shape: (32676,)\n",
      "y_train shape: (130701,)\n",
      "y_test shape: (40845,)\n",
      "y_val shape: (32676,)\n"
     ]
    }
   ],
   "source": [
    "dataset = pd.read_csv('preprocessed.csv', delimiter=\",\")\n",
    "\n",
    " \n",
    "# Delete All NaN values from columns=['description','rate']\n",
    "dataset = dataset[dataset['description'].notnull()]\n",
    "dataset = dataset[dataset['rate'].notnull()]\n",
    "  \n",
    "# We set all strings as lower case letters\n",
    "dataset['description'] = dataset['description'].str.lower()\n",
    "\n",
    "X = dataset['description']\n",
    "y = dataset['rate']\n",
    " \n",
    "X_train, X_test, y_train, y_test = train_test_split(X, y, test_size=0.2, random_state=42)\n",
    " \n",
    "X_train, X_val, y_train, y_val = train_test_split(X_train, y_train, test_size=0.2, random_state=42)\n",
    "\n",
    "print(\"X_train shape: \" + str(X_train.shape))\n",
    "print(\"X_test shape: \" + str(X_test.shape))\n",
    "print(\"X_val shape: \" + str(X_val.shape))\n",
    "print(\"y_train shape: \" + str(y_train.shape))\n",
    "print(\"y_test shape: \" + str(y_test.shape))\n",
    "print(\"y_val shape: \" + str(y_val.shape))"
   ]
  },
  {
   "cell_type": "markdown",
   "metadata": {},
   "source": [
    "## Prepare data - from text to avarage embedding vectors of words families "
   ]
  },
  {
   "cell_type": "code",
   "execution_count": 6,
   "metadata": {},
   "outputs": [],
   "source": [
    "mxlen = 50\n",
    "nb_classes = 3"
   ]
  },
  {
   "cell_type": "code",
   "execution_count": null,
   "metadata": {},
   "outputs": [],
   "source": [
    "X_train1 = replace_with_synonyms(X_train, mxlen)\n",
    "X_test1 = replace_with_synonyms(X_test, mxlen)\n",
    "X_val1 = replace_with_synonyms(X_val, mxlen)"
   ]
  },
  {
   "cell_type": "markdown",
   "metadata": {},
   "source": [
    "## Or load preprocessed"
   ]
  },
  {
   "cell_type": "code",
   "execution_count": 7,
   "metadata": {},
   "outputs": [],
   "source": [
    "X_train1 = np.load('X_train.npy')\n",
    "X_test1 = np.load('X_test.npy')\n",
    "X_val1 = np.load('X_val.npy')"
   ]
  },
  {
   "cell_type": "code",
   "execution_count": 8,
   "metadata": {},
   "outputs": [],
   "source": [
    "\n",
    "y_train = np_utils.to_categorical(y_train, nb_classes)\n",
    "y_test = np_utils.to_categorical(y_test, nb_classes)\n",
    "y_val = np_utils.to_categorical(y_val, nb_classes)"
   ]
  },
  {
   "cell_type": "code",
   "execution_count": 9,
   "metadata": {},
   "outputs": [
    {
     "name": "stdout",
     "output_type": "stream",
     "text": [
      "(130701, 50, 100)\n"
     ]
    }
   ],
   "source": [
    "print(X_train1.shape)"
   ]
  },
  {
   "cell_type": "markdown",
   "metadata": {},
   "source": [
    "## Create model"
   ]
  },
  {
   "cell_type": "code",
   "execution_count": 10,
   "metadata": {},
   "outputs": [],
   "source": [
    "batch_size = 32\n",
    "nb_epoch = 6\n"
   ]
  },
  {
   "cell_type": "code",
   "execution_count": 11,
   "metadata": {},
   "outputs": [],
   "source": [
    "model = Sequential()\n",
    "model.add(LSTM(128, input_shape=(mxlen, 100, ), recurrent_dropout=0.5, dropout=0.5))\n",
    "model.add(Dense(nb_classes))\n",
    "model.add(Activation('softmax'))\n",
    "\n",
    "\n",
    "model.compile(optimizer='adam', loss='categorical_crossentropy', metrics=['accuracy'])\n"
   ]
  },
  {
   "cell_type": "markdown",
   "metadata": {},
   "source": [
    "## Train"
   ]
  },
  {
   "cell_type": "code",
   "execution_count": 12,
   "metadata": {},
   "outputs": [
    {
     "name": "stderr",
     "output_type": "stream",
     "text": [
      "C:\\Users\\Jakub\\Anaconda3\\lib\\site-packages\\ipykernel_launcher.py:1: UserWarning: The `nb_epoch` argument in `fit` has been renamed `epochs`.\n",
      "  \"\"\"Entry point for launching an IPython kernel.\n"
     ]
    },
    {
     "name": "stdout",
     "output_type": "stream",
     "text": [
      "Train on 130701 samples, validate on 32676 samples\n",
      "Epoch 1/6\n",
      "130701/130701 [==============================] - 250s 2ms/step - loss: 0.1071 - accuracy: 0.9798 - val_loss: 0.0727 - val_accuracy: 0.9796\n",
      "Epoch 2/6\n",
      "130701/130701 [==============================] - 252s 2ms/step - loss: 0.0713 - accuracy: 0.9801 - val_loss: 0.0656 - val_accuracy: 0.9797\n",
      "Epoch 3/6\n",
      "130701/130701 [==============================] - 250s 2ms/step - loss: 0.0673 - accuracy: 0.9802 - val_loss: 0.0630 - val_accuracy: 0.9800\n",
      "Epoch 4/6\n",
      "130701/130701 [==============================] - 228s 2ms/step - loss: 0.0660 - accuracy: 0.9801 - val_loss: 0.0615 - val_accuracy: 0.9800\n",
      "Epoch 5/6\n",
      "130701/130701 [==============================] - 223s 2ms/step - loss: 0.0678 - accuracy: 0.9805 - val_loss: 0.0632 - val_accuracy: 0.9801\n",
      "Epoch 6/6\n",
      "130701/130701 [==============================] - 225s 2ms/step - loss: 0.0671 - accuracy: 0.9802 - val_loss: 0.0610 - val_accuracy: 0.9798\n",
      "32676/32676 [==============================] - 16s 479us/step\n",
      "Model: \"sequential_1\"\n",
      "_________________________________________________________________\n",
      "Layer (type)                 Output Shape              Param #   \n",
      "=================================================================\n",
      "lstm_1 (LSTM)                (None, 128)               117248    \n",
      "_________________________________________________________________\n",
      "dense_1 (Dense)              (None, 3)                 387       \n",
      "_________________________________________________________________\n",
      "activation_1 (Activation)    (None, 3)                 0         \n",
      "=================================================================\n",
      "Total params: 117,635\n",
      "Trainable params: 117,635\n",
      "Non-trainable params: 0\n",
      "_________________________________________________________________\n",
      "Test Loss: 6.10%\n",
      "Test Accuracy: 97.98%\n"
     ]
    }
   ],
   "source": [
    "rnn = model.fit(X_train1, y_train, nb_epoch= nb_epoch, batch_size=batch_size, shuffle=True, validation_data=(X_val1, y_val))\n",
    "score = model.evaluate(X_val1, y_val)\n",
    "model.summary()\n",
    "print(\"Test Loss: %.2f%%\" % (score[0]*100))\n",
    "print(\"Test Accuracy: %.2f%%\" % (score[1]*100))"
   ]
  },
  {
   "cell_type": "markdown",
   "metadata": {},
   "source": [
    "## Save model"
   ]
  },
  {
   "cell_type": "code",
   "execution_count": 13,
   "metadata": {},
   "outputs": [
    {
     "name": "stdout",
     "output_type": "stream",
     "text": [
      "Save model...\n",
      "Saved model to disk...\n"
     ]
    }
   ],
   "source": [
    "print('Save model...')\n",
    "model.save('Models/woEmbeddinglayerModel.h5')\n",
    "print('Saved model to disk...')\n",
    " \n",
    "# print('Save Word index...')\n",
    "# output = open('Models/finalwordindexhomemade.pkl', 'wb')\n",
    "# pickle.dump(word_index, output)\n",
    "# print('Saved word index to disk...')"
   ]
  },
  {
   "cell_type": "markdown",
   "metadata": {},
   "source": [
    "## Plots"
   ]
  },
  {
   "cell_type": "code",
   "execution_count": 21,
   "metadata": {},
   "outputs": [
    {
     "data": {
      "image/png": "[encoded data removed]",
      "text/plain": [
       "<Figure size 576x432 with 1 Axes>"
      ]
     },
     "metadata": {
      "needs_background": "light"
     },
     "output_type": "display_data"
    },
    {
     "data": {
      "image/png": "[encoded data removed]",
      "text/plain": [
       "<Figure size 576x432 with 1 Axes>"
      ]
     },
     "metadata": {
      "needs_background": "light"
     },
     "output_type": "display_data"
    }
   ],
   "source": [
    "plt.figure(0)\n",
    "plt.plot(rnn.history['accuracy'],'r')\n",
    "plt.plot(rnn.history['val_accuracy'],'g')\n",
    "plt.xticks(np.arange(0, nb_epoch+1, nb_epoch/5))\n",
    "plt.rcParams['figure.figsize'] = (8, 6)\n",
    "plt.xlabel(\"Num of Epochs\")\n",
    "plt.ylabel(\"Accuracy\")\n",
    "plt.title(\"Training vs Validation Accuracy LSTM, epochs=6\") # for max length = 10 and 20 epochs\n",
    "plt.legend(['train', 'validation'])\n",
    " \n",
    "plt.figure(1)\n",
    "plt.plot(rnn.history['loss'],'r')\n",
    "plt.plot(rnn.history['val_loss'],'g')\n",
    "plt.xticks(np.arange(0, nb_epoch+1, nb_epoch/5))\n",
    "plt.rcParams['figure.figsize'] = (8, 6)\n",
    "plt.xlabel(\"Num of Epochs\")\n",
    "plt.ylabel(\"Training vs Validation Loss LSTM, epochs=6\") # for max length = 10 and 20 epochs\n",
    "plt.legend(['train', 'validation'])\n",
    "plt.show()"
   ]
  },
  {
   "cell_type": "code",
   "execution_count": 16,
   "metadata": {},
   "outputs": [
    {
     "name": "stdout",
     "output_type": "stream",
     "text": [
      "Recall: 0.9803892765332354\n",
      "Precision: 0.966407265320268\n",
      "F1 Score: 0.9713020023417648\n"
     ]
    },
    {
     "name": "stderr",
     "output_type": "stream",
     "text": [
      "C:\\Users\\Jakub\\Anaconda3\\lib\\site-packages\\sklearn\\metrics\\classification.py:1437: UndefinedMetricWarning: Precision is ill-defined and being set to 0.0 in labels with no predicted samples.\n",
      "  'precision', 'predicted', average, warn_for)\n",
      "C:\\Users\\Jakub\\Anaconda3\\lib\\site-packages\\sklearn\\metrics\\classification.py:1437: UndefinedMetricWarning: F-score is ill-defined and being set to 0.0 in labels with no predicted samples.\n",
      "  'precision', 'predicted', average, warn_for)\n"
     ]
    }
   ],
   "source": [
    "from sklearn.metrics import recall_score\n",
    "from sklearn.metrics import precision_score\n",
    "from sklearn.metrics import f1_score\n",
    " \n",
    "y_pred = model.predict(X_test1)\n",
    " \n",
    "# Convert Y_Test into 1D array\n",
    "yy_true = [np.argmax(i) for i in y_test]\n",
    "\n",
    "yy_scores = [np.argmax(i) for i in y_pred]\n",
    " \n",
    "print(\"Recall: \" + str(recall_score(yy_true, yy_scores, average='weighted')))\n",
    "print(\"Precision: \" + str(precision_score(yy_true, yy_scores, average='weighted')))\n",
    "print(\"F1 Score: \" + str(f1_score(yy_true, yy_scores, average='weighted')))"
   ]
  },
  {
   "cell_type": "code",
   "execution_count": 19,
   "metadata": {},
   "outputs": [
    {
     "name": "stdout",
     "output_type": "stream",
     "text": [
      "Model: \"sequential_1\"\n",
      "_________________________________________________________________\n",
      "Layer (type)                 Output Shape              Param #   \n",
      "=================================================================\n",
      "lstm_1 (LSTM)                (None, 128)               117248    \n",
      "_________________________________________________________________\n",
      "dense_1 (Dense)              (None, 3)                 387       \n",
      "_________________________________________________________________\n",
      "activation_1 (Activation)    (None, 3)                 0         \n",
      "=================================================================\n",
      "Total params: 117,635\n",
      "Trainable params: 117,635\n",
      "Non-trainable params: 0\n",
      "_________________________________________________________________\n",
      "accuracy: 98.04%\n"
     ]
    }
   ],
   "source": [
    "from keras.models import load_model\n",
    "\n",
    "model = load_model('./Models/woEmbeddinglayerModel.h5')\n",
    "model.summary()\n",
    "score = model.evaluate(X_test1, y_test, verbose=0)\n",
    "print(\"%s: %.2f%%\" % (model.metrics_names[1], score[1]*100))"
   ]
  },
  {
   "cell_type": "code",
   "execution_count": null,
   "metadata": {},
   "outputs": [],
   "source": []
  }
 ],
 "metadata": {
  "kernelspec": {
   "display_name": "Python 3",
   "language": "python",
   "name": "python3"
  },
  "language_info": {
   "codemirror_mode": {
    "name": "ipython",
    "version": 3
   },
   "file_extension": ".py",
   "mimetype": "text/x-python",
   "name": "python",
   "nbconvert_exporter": "python",
   "pygments_lexer": "ipython3",
   "version": "3.7.4"
  }
 },
 "nbformat": 4,
 "nbformat_minor": 2
}
