{
 "cells": [
  {
   "cell_type": "code",
   "execution_count": 1,
   "metadata": {},
   "outputs": [
    {
     "name": "stderr",
     "output_type": "stream",
     "text": [
      "Using TensorFlow backend.\n"
     ]
    }
   ],
   "source": [
    "import numpy as np\n",
    "import pandas as pd\n",
    "import matplotlib.pylab as plt\n",
    "from sklearn.model_selection import train_test_split\n",
    "from keras.preprocessing.text import Tokenizer\n",
    "from keras.models import Sequential\n",
    "from keras.layers import Dense, Dropout, Activation, LSTM\n",
    "from keras.layers.embeddings import Embedding\n",
    "from keras.utils import np_utils\n",
    "from keras.preprocessing import sequence\n",
    "from gensim.models import Word2Vec, KeyedVectors, word2vec\n",
    "import gensim\n",
    "from gensim.utils import simple_preprocess\n",
    "from keras.utils import to_categorical\n",
    "import pickle\n",
    "import h5py\n",
    "from time import time\n",
    "\n",
    "np.random.seed(7)"
   ]
  },
  {
   "cell_type": "code",
   "execution_count": 2,
   "metadata": {},
   "outputs": [],
   "source": [
    "word2vec_model = gensim.models.KeyedVectors.load_word2vec_format('nkjp.txt', binary=False)"
   ]
  },
  {
   "cell_type": "code",
   "execution_count": 3,
   "metadata": {},
   "outputs": [
    {
     "name": "stdout",
     "output_type": "stream",
     "text": [
      "X_train shape: (130701,)\n",
      "X_test shape: (40845,)\n",
      "X_val shape: (32676,)\n",
      "y_train shape: (130701,)\n",
      "y_test shape: (40845,)\n",
      "y_val shape: (32676,)\n"
     ]
    }
   ],
   "source": [
    "dataset = pd.read_csv('preprocessed.csv', delimiter=\",\")\n",
    "\n",
    " \n",
    "# Delete All NaN values from columns=['description','rate']\n",
    "dataset = dataset[dataset['description'].notnull()]\n",
    "dataset = dataset[dataset['rate'].notnull()]\n",
    "  \n",
    "# We set all strings as lower case letters\n",
    "dataset['description'] = dataset['description'].str.lower()\n",
    "\n",
    "X = dataset['description']\n",
    "y = dataset['rate']\n",
    " \n",
    "X_train, X_test, y_train, y_test = train_test_split(X, y, test_size=0.2, random_state=42)\n",
    " \n",
    "X_train, X_val, y_train, y_val = train_test_split(X_train, y_train, test_size=0.2, random_state=42)\n",
    "\n",
    "print(\"X_train shape: \" + str(X_train.shape))\n",
    "print(\"X_test shape: \" + str(X_test.shape))\n",
    "print(\"X_val shape: \" + str(X_val.shape))\n",
    "print(\"y_train shape: \" + str(y_train.shape))\n",
    "print(\"y_test shape: \" + str(y_test.shape))\n",
    "print(\"y_val shape: \" + str(y_val.shape))"
   ]
  },
  {
   "cell_type": "code",
   "execution_count": 4,
   "metadata": {},
   "outputs": [
    {
     "name": "stdout",
     "output_type": "stream",
     "text": [
      "Shape of embedding matrix:  (1832700, 100)\n"
     ]
    },
    {
     "name": "stderr",
     "output_type": "stream",
     "text": [
      "C:\\Users\\Jakub\\Anaconda3\\lib\\site-packages\\ipykernel_launcher.py:1: DeprecationWarning: Call to deprecated `wv` (Attribute will be removed in 4.0.0, use self instead).\n",
      "  \"\"\"Entry point for launching an IPython kernel.\n",
      "C:\\Users\\Jakub\\Anaconda3\\lib\\site-packages\\ipykernel_launcher.py:1: DeprecationWarning: Call to deprecated `syn0` (Attribute will be removed in 4.0.0, use self.vectors instead).\n",
      "  \"\"\"Entry point for launching an IPython kernel.\n"
     ]
    },
    {
     "name": "stdout",
     "output_type": "stream",
     "text": [
      "Found 36017 unique tokens.\n"
     ]
    }
   ],
   "source": [
    "embedding_matrix = word2vec_model.wv.syn0\n",
    "print('Shape of embedding matrix: ', embedding_matrix.shape)\n",
    "\n",
    "top_words = embedding_matrix.shape[0]\n",
    "mxlen = 50\n",
    "nb_classes = 3\n",
    " \n",
    "tokenizer = Tokenizer(num_words=top_words)\n",
    "tokenizer.fit_on_texts(X_train)\n",
    "sequences_train = tokenizer.texts_to_sequences(X_train)\n",
    "sequences_test = tokenizer.texts_to_sequences(X_test)\n",
    "sequences_val = tokenizer.texts_to_sequences(X_val)\n",
    " \n",
    "word_index = tokenizer.word_index\n",
    "print('Found %s unique tokens.' % len(word_index))\n",
    "X_train = sequence.pad_sequences(sequences_train, maxlen=mxlen)\n",
    "X_test = sequence.pad_sequences(sequences_test, maxlen=mxlen)\n",
    "X_val = sequence.pad_sequences(sequences_val, maxlen=mxlen)\n",
    " \n",
    "y_train = np_utils.to_categorical(y_train, nb_classes)\n",
    "y_test = np_utils.to_categorical(y_test, nb_classes)\n",
    "y_val = np_utils.to_categorical(y_val, nb_classes)"
   ]
  },
  {
   "cell_type": "code",
   "execution_count": 5,
   "metadata": {},
   "outputs": [
    {
     "name": "stdout",
     "output_type": "stream",
     "text": [
      "Model: \"sequential_1\"\n",
      "_________________________________________________________________\n",
      "Layer (type)                 Output Shape              Param #   \n",
      "=================================================================\n",
      "embedding_1 (Embedding)      (None, None, 100)         183270000 \n",
      "_________________________________________________________________\n",
      "lstm_1 (LSTM)                (None, 128)               117248    \n",
      "_________________________________________________________________\n",
      "dense_1 (Dense)              (None, 3)                 387       \n",
      "_________________________________________________________________\n",
      "activation_1 (Activation)    (None, 3)                 0         \n",
      "=================================================================\n",
      "Total params: 183,387,635\n",
      "Trainable params: 117,635\n",
      "Non-trainable params: 183,270,000\n",
      "_________________________________________________________________\n"
     ]
    }
   ],
   "source": [
    "embedding_layer = Embedding(embedding_matrix.shape[0],\n",
    "                            embedding_matrix.shape[1],\n",
    "                            weights=[embedding_matrix],\n",
    "                            trainable=False)\n",
    "\n",
    "batch_size = 32\n",
    "nb_epoch = 6\n",
    "\n",
    "model = Sequential()\n",
    "model.add(embedding_layer)\n",
    "model.add(LSTM(128, recurrent_dropout=0.5, dropout=0.5))\n",
    "model.add(Dense(nb_classes))\n",
    "model.add(Activation('softmax'))\n",
    "model.summary()"
   ]
  },
  {
   "cell_type": "code",
   "execution_count": 6,
   "metadata": {},
   "outputs": [
    {
     "name": "stderr",
     "output_type": "stream",
     "text": [
      "C:\\Users\\Jakub\\Anaconda3\\lib\\site-packages\\ipykernel_launcher.py:2: UserWarning: The `nb_epoch` argument in `fit` has been renamed `epochs`.\n",
      "  \n"
     ]
    },
    {
     "name": "stdout",
     "output_type": "stream",
     "text": [
      "Train on 130701 samples, validate on 32676 samples\n",
      "Epoch 1/6\n",
      "130701/130701 [==============================] - 235s 2ms/step - loss: 0.0324 - accuracy: 0.9924 - val_loss: 0.0254 - val_accuracy: 0.9936\n",
      "Epoch 2/6\n",
      "130701/130701 [==============================] - 224s 2ms/step - loss: 0.0261 - accuracy: 0.9933 - val_loss: 0.0221 - val_accuracy: 0.9937\n",
      "Epoch 3/6\n",
      "130701/130701 [==============================] - 224s 2ms/step - loss: 0.0243 - accuracy: 0.9934 - val_loss: 0.0212 - val_accuracy: 0.9936\n",
      "Epoch 4/6\n",
      "130701/130701 [==============================] - 226s 2ms/step - loss: 0.0234 - accuracy: 0.9934 - val_loss: 0.0206 - val_accuracy: 0.9938\n",
      "Epoch 5/6\n",
      "130701/130701 [==============================] - 225s 2ms/step - loss: 0.0225 - accuracy: 0.9936 - val_loss: 0.0211 - val_accuracy: 0.9939\n",
      "Epoch 6/6\n",
      "130701/130701 [==============================] - 229s 2ms/step - loss: 0.0221 - accuracy: 0.9936 - val_loss: 0.0206 - val_accuracy: 0.9942\n",
      "32676/32676 [==============================] - 15s 469us/step\n",
      "Test Loss: 2.06%\n",
      "Test Accuracy: 99.42%\n"
     ]
    }
   ],
   "source": [
    "model.compile(optimizer='adam', loss='categorical_crossentropy', metrics=['accuracy'])\n",
    "rnn = model.fit(X_train, y_train, nb_epoch= nb_epoch, batch_size=batch_size, shuffle=True, validation_data=(X_val, y_val))\n",
    "score = model.evaluate(X_val, y_val)\n",
    "print(\"Test Loss: %.2f%%\" % (score[0]*100))\n",
    "print(\"Test Accuracy: %.2f%%\" % (score[1]*100))\n"
   ]
  },
  {
   "cell_type": "code",
   "execution_count": 7,
   "metadata": {},
   "outputs": [
    {
     "name": "stdout",
     "output_type": "stream",
     "text": [
      "Save model...\n",
      "Saved model to disk...\n",
      "Save Word index...\n",
      "Saved word index to disk...\n"
     ]
    }
   ],
   "source": [
    "print('Save model...')\n",
    "model.save('Models/wEmbeddingLayerModel.h5')\n",
    "print('Saved model to disk...')\n",
    " \n",
    "print('Save Word index...')\n",
    "output = open('Models/wordindex.pkl', 'wb')\n",
    "pickle.dump(word_index, output)\n",
    "print('Saved word index to disk...')"
   ]
  },
  {
   "cell_type": "code",
   "execution_count": 8,
   "metadata": {},
   "outputs": [
    {
     "data": {
      "image/png": "[encoded data removed]",
      "text/plain": [
       "<Figure size 432x288 with 1 Axes>"
      ]
     },
     "metadata": {
      "needs_background": "light"
     },
     "output_type": "display_data"
    },
    {
     "data": {
      "image/png": "[encoded data removed]",
      "text/plain": [
       "<Figure size 576x432 with 1 Axes>"
      ]
     },
     "metadata": {
      "needs_background": "light"
     },
     "output_type": "display_data"
    }
   ],
   "source": [
    "plt.figure(0)\n",
    "plt.plot(rnn.history['accuracy'],'r')\n",
    "plt.plot(rnn.history['val_accuracy'],'g')\n",
    "plt.xticks(np.arange(0, nb_epoch+1, nb_epoch/5))\n",
    "plt.rcParams['figure.figsize'] = (8, 6)\n",
    "plt.xlabel(\"Num of Epochs\")\n",
    "plt.ylabel(\"Accuracy\")\n",
    "plt.title(\"Training vs Validation Accuracy LSTM, epochs=6\") # for max length = 10 and 20 epochs\n",
    "plt.legend(['train', 'validation'])\n",
    " \n",
    "plt.figure(1)\n",
    "plt.plot(rnn.history['loss'],'r')\n",
    "plt.plot(rnn.history['val_loss'],'g')\n",
    "plt.xticks(np.arange(0, nb_epoch+1, nb_epoch/5))\n",
    "plt.rcParams['figure.figsize'] = (8, 6)\n",
    "plt.xlabel(\"Num of Epochs\")\n",
    "plt.ylabel(\"Training vs Validation Loss LSTM, epochs=6\") # for max length = 10 and 20 epochs\n",
    "plt.legend(['train', 'validation'])\n",
    "plt.show()"
   ]
  },
  {
   "cell_type": "code",
   "execution_count": 9,
   "metadata": {},
   "outputs": [
    {
     "name": "stdout",
     "output_type": "stream",
     "text": [
      "Recall: 0.9936834373852369\n",
      "Precision: 0.9916088547103269\n",
      "F1 Score: 0.9913898407874167\n"
     ]
    }
   ],
   "source": [
    "from sklearn.metrics import recall_score\n",
    "from sklearn.metrics import precision_score\n",
    "from sklearn.metrics import f1_score\n",
    " \n",
    "y_pred = model.predict(X_test)\n",
    " \n",
    "# Convert Y_Test into 1D array\n",
    "yy_true = [np.argmax(i) for i in y_test]\n",
    "\n",
    "yy_scores = [np.argmax(i) for i in y_pred]\n",
    " \n",
    "print(\"Recall: \" + str(recall_score(yy_true, yy_scores, average='weighted')))\n",
    "print(\"Precision: \" + str(precision_score(yy_true, yy_scores, average='weighted')))\n",
    "print(\"F1 Score: \" + str(f1_score(yy_true, yy_scores, average='weighted')))"
   ]
  },
  {
   "cell_type": "code",
   "execution_count": null,
   "metadata": {},
   "outputs": [],
   "source": []
  }
 ],
 "metadata": {
  "kernelspec": {
   "display_name": "Python 3",
   "language": "python",
   "name": "python3"
  },
  "language_info": {
   "codemirror_mode": {
    "name": "ipython",
    "version": 3
   },
   "file_extension": ".py",
   "mimetype": "text/x-python",
   "name": "python",
   "nbconvert_exporter": "python",
   "pygments_lexer": "ipython3",
   "version": "3.7.4"
  }
 },
 "nbformat": 4,
 "nbformat_minor": 2
}
